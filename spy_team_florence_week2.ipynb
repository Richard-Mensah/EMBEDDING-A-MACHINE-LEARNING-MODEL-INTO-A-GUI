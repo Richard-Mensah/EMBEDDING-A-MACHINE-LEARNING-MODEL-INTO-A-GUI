{
 "cells": [
  {
   "cell_type": "code",
   "execution_count": 1,
   "id": "d05fc433",
   "metadata": {},
   "outputs": [],
   "source": [
    "# importing libraries\n",
    "import streamlit as st\n",
    "import pandas as pd\n",
    "import numpy as np\n",
    "import os, pickle\n",
    "import datetime\n",
    "import time\n",
    "from PIL import Image\n"
   ]
  },
  {
   "cell_type": "code",
   "execution_count": 2,
   "id": "4e8cfd37",
   "metadata": {},
   "outputs": [],
   "source": [
    "# Set Page Configurations\n",
    "st.set_page_config(page_title = \"Sales Prediction App\", page_icon = \":trendline:\", \n",
    "layout = \"wide\", initial_sidebar_state = \"auto\")\n"
   ]
  },
  {
   "cell_type": "code",
   "execution_count": null,
   "id": "c2d27908",
   "metadata": {},
   "outputs": [],
   "source": []
  },
  {
   "cell_type": "code",
   "execution_count": null,
   "id": "0a3acadc",
   "metadata": {},
   "outputs": [],
   "source": [
    "# Import the image\n",
    "image = Image.open('images/img1.png')\n",
    "# image = image.resize((226, 170))\n",
    "\n",
    "# Show the image\n",
    "st.image(image, caption='Sales Forecasting', use_column_width=False)\n",
    "\n"
   ]
  },
  {
   "cell_type": "code",
   "execution_count": null,
   "id": "57afbd92",
   "metadata": {},
   "outputs": [],
   "source": [
    "# Set up sidebar\n",
    "st.sidebar.header('Navigation')\n",
    "menu = ['Home', 'About']\n",
    "choice = st.sidebar.selectbox(\"Select an option\", menu)\n",
    "\n",
    "# Home section\n",
    "if choice == 'Home':\n",
    "    st.markdown(\"<h1 style='text-align: center;'>Welcome</h1>\", unsafe_allow_html=True)\n",
    "    st.markdown(\"<p style='text-align: center;'>This is a simple sales prediction app.</p>\", unsafe_allow_html=True)\n"
   ]
  },
  {
   "cell_type": "code",
   "execution_count": null,
   "id": "a4111f5f",
   "metadata": {},
   "outputs": [],
   "source": [
    "# About section\n",
    "elif choice == 'About':\n",
    "    st.title('About')\n",
    "    st.write('This is the about page.')\n",
    "\n",
    "\n",
    "# Set Page Title\n",
    "st.title('Sales Prediction App')\n",
    "st.markdown('Select your features and click on Submit')\n",
    "\n",
    "\n",
    "# Loading Machine Learning Objects\n",
    "@st.cache_data()\n",
    "def load_ml_objects(file_path = 'ML_toolkit'):\n",
    "    # Function to load ml objects\n",
    "    with open('ML_toolkit', 'rb') as file:\n",
    "        loaded_object = pickle.load(file)\n",
    "        \n",
    "    return loaded_object\n"
   ]
  },
  {
   "cell_type": "code",
   "execution_count": null,
   "id": "16d7ee55",
   "metadata": {},
   "outputs": [],
   "source": [
    "# Instantiating ML_items\n",
    "loaded_object = load_ml_objects(file_path = 'ML_toolkit')\n",
    "\n",
    "scaler = loaded_object[\"scaler\"]\n",
    "model = loaded_object[\"model\"]\n",
    "encode  = loaded_object[\"encoder\"]\n",
    "data = loaded_object[\"data\"]\n",
    "\n",
    "\n",
    "data_ = data.drop('sales', axis=1)\n",
    "\n",
    "# Set Min and Max date interval\n",
    "min_date = datetime.date(2000, 1, 1)\n",
    "max_date = datetime.date(2099, 12, 31)\n",
    "\n",
    "\n",
    "# Create a form for collecting input data\n",
    "st.header(\"Input Data\")\n",
    "\n",
    "# Define the column layout\n",
    "col1, col2, col3 = st.columns(3)\n",
    "\n",
    "# Define the input fields for each column\n",
    "with col1:\n",
    "    date = st.date_input(\"Select a date\", min_value=min_date, max_value=max_date, key=\"my_date_picker\")\n",
    "    family = st.selectbox(\"Family\", options=(list( data_['family'].unique())))\n",
    "    transactions = st.slider(\"Transactions\", min_value=1, max_value=10000, step=1)\n",
    "\n",
    "with col2:\n",
    "    city = st.selectbox(\"City\", options =(data_['city'].unique()))\n",
    "    cluster = st.selectbox(\"Cluster\", options=(list( data_['cluster'].unique())))\n",
    "    store_nbr = st.slider(\"Store Number\", min_value=1, max_value=100, step=1)\n",
    "    \n",
    "with col3:\n",
    "    holiday_type = st.selectbox(\"Day Type\", options =(data_['holiday_type'].unique()))\n",
    "    onpromotion = st.selectbox(\"On Promotion\", options=(list( data_['onpromotion'].unique())))\n",
    "    oil_price = st.slider(\"Oil Price\", min_value=1, max_value=110, step=1)\n"
   ]
  },
  {
   "cell_type": "code",
   "execution_count": null,
   "id": "17ecf9bf",
   "metadata": {},
   "outputs": [],
   "source": [
    "# Print the input data to the console\n",
    "st.header(\"Input Data Summary\")\n",
    "st.write(\"Date:\", date)\n",
    "st.write(\"Family:\", family)\n",
    "st.write(\"Transactions:\", transactions)\n",
    "st.write(\"City:\", city)\n",
    "st.write(\"Cluster:\", cluster)\n",
    "st.write(\"Store Number:\", store_nbr)\n",
    "st.write(\"Day Type:\", holiday_type)\n",
    "st.write(\"On Promotion:\", onpromotion)\n",
    "st.write(\"Oil Price:\", oil_price)\n",
    "\n",
    "df_from_input = pd.DataFrame([{\n",
    "   'date' : date,\n",
    "   'family': family,\n",
    "   'transactions': transactions,\n",
    "   'city': city,\n",
    "   'cluster': cluster,\n",
    "   'store_nbr': store_nbr,\n",
    "   'holiday_type': holiday_type,\n",
    "   'onpromotion': onpromotion,\n",
    "   'oil_price': oil_price\n",
    "  }])"
   ]
  },
  {
   "cell_type": "code",
   "execution_count": null,
   "id": "2dbd1afe",
   "metadata": {},
   "outputs": [],
   "source": [
    "df_from_input['date'] = pd.to_datetime(df_from_input['date'])\n",
    "df_from_input[\"year\"] = df_from_input['date'].dt.year\n",
    "df_from_input[\"month\"] = df_from_input['date'].dt.month\n"
   ]
  },
  {
   "cell_type": "code",
   "execution_count": null,
   "id": "44ec89ef",
   "metadata": {},
   "outputs": [],
   "source": [
    "def predict_sales(df_from_input):\n",
    "    # features to encode\n",
    "    categoricals = data_[[\"family\", \"city\", \"holiday_type\"]]\n",
    "\n",
    "    columns = list(data_.columns) \n",
    "    \n",
    "    # features to scale\n",
    "    numericals = data_.select_dtypes(include='number')\n",
    "    \n",
    "    # Scaling the columns\n",
    "    scale_numericals = scaler.transform(numericals)\n",
    "\n",
    "    # Encoding the categoricals\n",
    "    encoded_categoricals = encode.transform(categoricals)\n",
    "\n",
    "    # concatenate the two DataFrames\n",
    "    final_data = pd.concat([scale_numericals, encoded_categoricals], axis=1)\n",
    "\n",
    "     # convert input_data to a numpy array \n",
    "    final_data = final_data.to_numpy()\n",
    "\n",
    "    prediction = model.predict(final_data)\n",
    "    # final_data[\"sales\"] = prediction\n",
    "    # data[\"sales\"] = prediction\n",
    "\n",
    "    return prediction\n",
    "\n",
    "    print(final_data)\n",
    "    print(scale_numericals.shape)\n",
    "    print(encoded_categoricals.shape)\n",
    "\n",
    "    print(type(scale_numericals))\n",
    "    print(type(encoded_categoricals))\n",
    " \n",
    "\n",
    "# Prediction\n",
    "if st.button('Submit'):\n",
    "    # Convert the date to a Unix timestamp\n",
    "    date = time.mktime(date.timetuple())\n"
   ]
  },
  {
   "cell_type": "code",
   "execution_count": null,
   "id": "e4a843e3",
   "metadata": {},
   "outputs": [],
   "source": [
    " prediction = predict_sales(df_from_input)\n",
    "    # prediction(data_, df_from_input)\n",
    "    st.success('Sales is : ' + str(round(prediction[0],2)))\n",
    "    # st.success('Sales is : ', round(prediction[0],2))\n",
    "    # st.success(f'Sales is : {prediction}')"
   ]
  }
 ],
 "metadata": {
  "kernelspec": {
   "display_name": "Python 3 (ipykernel)",
   "language": "python",
   "name": "python3"
  },
  "language_info": {
   "codemirror_mode": {
    "name": "ipython",
    "version": 3
   },
   "file_extension": ".py",
   "mimetype": "text/x-python",
   "name": "python",
   "nbconvert_exporter": "python",
   "pygments_lexer": "ipython3",
   "version": "3.10.7"
  }
 },
 "nbformat": 4,
 "nbformat_minor": 5
}
